{
 "cells": [
  {
   "cell_type": "code",
   "execution_count": 7,
   "id": "fe1b1e90",
   "metadata": {},
   "outputs": [
    {
     "name": "stdout",
     "output_type": "stream",
     "text": [
      "          Player       Team  Year  Pts_Game  Reb_Game  Ast_Game    FG%    3P%  \\\n",
      "0   LeBron James  Cavaliers  2010      29.7       7.3       8.6  0.503  0.333   \n",
      "1   Kevin Durant    Thunder  2014      32.0       7.4       5.5  0.503  0.391   \n",
      "2  Stephen Curry   Warriors  2016      30.1       5.4       6.7  0.504  0.454   \n",
      "\n",
      "     FT%  \n",
      "0  0.767  \n",
      "1  0.864  \n",
      "2  0.908  \n"
     ]
    }
   ],
   "source": [
    "import pandas as pd\n",
    "\n",
    "df = pd.read_csv('basketball_stats.csv')\n",
    "\n",
    "print(df.head())"
   ]
  },
  {
   "cell_type": "code",
   "execution_count": 14,
   "id": "bb2c05da",
   "metadata": {},
   "outputs": [
    {
     "name": "stdout",
     "output_type": "stream",
     "text": [
      "           Player       Team  Year Stat Measure   Value\n",
      "0    LeBron James  Cavaliers  2010  Pts    Game  29.700\n",
      "1    Kevin Durant    Thunder  2014  Pts    Game  32.000\n",
      "2   Stephen Curry   Warriors  2016  Pts    Game  30.100\n",
      "3    LeBron James  Cavaliers  2010  Reb    Game   7.300\n",
      "4    Kevin Durant    Thunder  2014  Reb    Game   7.400\n",
      "5   Stephen Curry   Warriors  2016  Reb    Game   5.400\n",
      "6    LeBron James  Cavaliers  2010  Ast    Game   8.600\n",
      "7    Kevin Durant    Thunder  2014  Ast    Game   5.500\n",
      "8   Stephen Curry   Warriors  2016  Ast    Game   6.700\n",
      "9    LeBron James  Cavaliers  2010  FG%    None   0.503\n",
      "10   Kevin Durant    Thunder  2014  FG%    None   0.503\n",
      "11  Stephen Curry   Warriors  2016  FG%    None   0.504\n",
      "12   LeBron James  Cavaliers  2010  3P%    None   0.333\n",
      "13   Kevin Durant    Thunder  2014  3P%    None   0.391\n",
      "14  Stephen Curry   Warriors  2016  3P%    None   0.454\n",
      "15   LeBron James  Cavaliers  2010  FT%    None   0.767\n",
      "16   Kevin Durant    Thunder  2014  FT%    None   0.864\n",
      "17  Stephen Curry   Warriors  2016  FT%    None   0.908\n"
     ]
    }
   ],
   "source": [
    "#unpivot the table using the melt() function\n",
    "df_tidy = df.melt(id_vars=['Player', 'Team', 'Year'], var_name='Statistic', value_name='Value')\n",
    "\n",
    "#split the Statistic column into separate columns for each variable\n",
    "df_tidy[['Stat', 'Measure']] = df_tidy['Statistic'].str.split('_', expand=True)\n",
    "\n",
    "#drop the original Statistic column\n",
    "df_tidy = df_tidy.drop('Statistic', axis=1)\n",
    "\n",
    "#rearrange the columns\n",
    "df_tidy = df_tidy[['Player', 'Team', 'Year', 'Stat', 'Measure', 'Value']]\n",
    "\n",
    "print (df_tidy)"
   ]
  },
  {
   "cell_type": "code",
   "execution_count": 20,
   "id": "9b274c54",
   "metadata": {},
   "outputs": [
    {
     "name": "stdout",
     "output_type": "stream",
     "text": [
      "Year                     2010       2014       2016     \n",
      "Stat                      Pts  Reb   Pts  Reb   Pts  Reb\n",
      "Player        Team                                      \n",
      "Kevin Durant  Thunder     NaN  NaN  32.0  7.4   NaN  NaN\n",
      "LeBron James  Cavaliers  29.7  7.3   NaN  NaN   NaN  NaN\n",
      "Stephen Curry Warriors    NaN  NaN   NaN  NaN  30.1  5.4\n"
     ]
    }
   ],
   "source": [
    "#group the data to calculate the average value\n",
    "df_stats = df_tidy.groupby(['Player', 'Team', 'Year', 'Stat'])['Value'].mean().reset_index()\n",
    "\n",
    "#filter the data to only include Pts and Reb stats\n",
    "df_pts_reb = df_stats[df_stats['Stat'].isin(['Pts', 'Reb'])]\n",
    "\n",
    "#create a pivot table to compare the performance of each player across different years and teams\n",
    "df_pivot = pd.pivot_table(df_pts_reb, values='Value', index=['Player', 'Team'], columns=['Year', 'Stat'])\n",
    "\n",
    "print(df_pivot)"
   ]
  },
  {
   "cell_type": "code",
   "execution_count": 21,
   "id": "5f87a72b",
   "metadata": {},
   "outputs": [
    {
     "name": "stdout",
     "output_type": "stream",
     "text": [
      "Statistics by Team:\n",
      "         Team Stat   Value\n",
      "4   Cavaliers  Pts  29.700\n",
      "1   Cavaliers  Ast   8.600\n",
      "5   Cavaliers  Reb   7.300\n",
      "3   Cavaliers  FT%   0.767\n",
      "2   Cavaliers  FG%   0.503\n",
      "0   Cavaliers  3P%   0.333\n",
      "10    Thunder  Pts  32.000\n",
      "11    Thunder  Reb   7.400\n",
      "7     Thunder  Ast   5.500\n",
      "9     Thunder  FT%   0.864\n",
      "8     Thunder  FG%   0.503\n",
      "6     Thunder  3P%   0.391\n",
      "16   Warriors  Pts  30.100\n",
      "13   Warriors  Ast   6.700\n",
      "17   Warriors  Reb   5.400\n",
      "15   Warriors  FT%   0.908\n",
      "14   Warriors  FG%   0.504\n",
      "12   Warriors  3P%   0.454\n"
     ]
    }
   ],
   "source": [
    "#group the data by team and stat, and calculate the average value\n",
    "df_team = df_tidy.groupby(['Team', 'Stat'])['Value'].mean().reset_index()\n",
    "\n",
    "#sort the data by team and stat\n",
    "df_team = df_team.sort_values(['Team', 'Value'], ascending=[True, False])\n",
    "\n",
    "print(\"Statistics by Team:\")\n",
    "\n",
    "print(df_team)"
   ]
  },
  {
   "cell_type": "code",
   "execution_count": 22,
   "id": "15e5ebf4",
   "metadata": {},
   "outputs": [
    {
     "name": "stdout",
     "output_type": "stream",
     "text": [
      "\n",
      "Statistics by Position:\n",
      "  Measure Stat      Value\n",
      "1    Game  Pts  30.600000\n",
      "0    Game  Ast   6.933333\n",
      "2    Game  Reb   6.700000\n"
     ]
    }
   ],
   "source": [
    "#group the data by position and stat, and calculate the average value\n",
    "df_pos = df_tidy.groupby(['Measure', 'Stat'])['Value'].mean().reset_index()\n",
    "\n",
    "#sort the data by position and stat\n",
    "df_pos = df_pos.sort_values(['Measure', 'Value'], ascending=[True, False])\n",
    "\n",
    "print(\"\\nStatistics by Position:\")\n",
    "\n",
    "print(df_pos)"
   ]
  },
  {
   "cell_type": "code",
   "execution_count": null,
   "id": "b7804967",
   "metadata": {},
   "outputs": [],
   "source": []
  }
 ],
 "metadata": {
  "kernelspec": {
   "display_name": "Python 3",
   "language": "python",
   "name": "python3"
  },
  "language_info": {
   "codemirror_mode": {
    "name": "ipython",
    "version": 3
   },
   "file_extension": ".py",
   "mimetype": "text/x-python",
   "name": "python",
   "nbconvert_exporter": "python",
   "pygments_lexer": "ipython3",
   "version": "3.8.10"
  }
 },
 "nbformat": 4,
 "nbformat_minor": 5
}
